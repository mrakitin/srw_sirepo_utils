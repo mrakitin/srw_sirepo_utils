{
 "cells": [
  {
   "cell_type": "code",
   "execution_count": 59,
   "metadata": {},
   "outputs": [],
   "source": [
    "import re\n",
    "import numpy as np\n",
    "import matplotlib.pyplot as plt\n",
    "import pandas as pd\n",
    "import bnlcrl.pkcli.simulate\n",
    "from scipy.signal import find_peaks_cwt\n",
    "%matplotlib inline"
   ]
  },
  {
   "cell_type": "markdown",
   "metadata": {},
   "source": [
    "# Calculate spectrum and select the 5th harmonic\n",
    "### Data from https://expdev.nsls2.bnl.gov/srw#/source/blSqHnE5:"
   ]
  },
  {
   "cell_type": "code",
   "execution_count": 48,
   "metadata": {},
   "outputs": [],
   "source": [
    "%run -i chx_spectrum.py"
   ]
  },
  {
   "cell_type": "code",
   "execution_count": 49,
   "metadata": {},
   "outputs": [
    {
     "name": "stdout",
     "output_type": "stream",
     "text": [
      "Single-electron SR calculation ... completed (lasted 1.154294 s)\n",
      "Extracting intensity and saving it to a file ... completed (lasted 0.006456 s)\n"
     ]
    }
   ],
   "source": [
    "und_by = 0.6\n",
    "res_file = 'res_spectrum_und_by_{}.dat'.format(und_by)\n",
    "kwargs = {\n",
    "    'und_by': und_by,\n",
    "    'ss_fn': res_file,\n",
    "}\n",
    "chx_spectrum(**kwargs)"
   ]
  },
  {
   "cell_type": "code",
   "execution_count": 50,
   "metadata": {},
   "outputs": [
    {
     "name": "stdout",
     "output_type": "stream",
     "text": [
      "total 384\r\n",
      "drwxr-xr-x  3 mrakitin mrakitin   4096 Dec  3 00:04 .\r\n",
      "drwxr-xr-x 13 mrakitin mrakitin   4096 Dec  2 15:46 ..\r\n",
      "-rw-rw-r--  1 mrakitin mrakitin  18706 Dec  2 23:58 chx_spectrum.py\r\n",
      "-rw-r--r--  1 mrakitin mrakitin  28672 Dec  2 23:58 .chx_spectrum.py.swp\r\n",
      "drwxr-xr-x  2 mrakitin mrakitin   4096 Dec  2 15:48 .ipynb_checkpoints\r\n",
      "-rw-r--r--  1 mrakitin mrakitin 151197 Dec  2 23:57 res_spec_se.dat\r\n",
      "-rw-r--r--  1 mrakitin mrakitin 151197 Dec  3 00:05 res_spectrum_und_by_0.6.dat\r\n",
      "-rw-r--r--  1 mrakitin mrakitin  27237 Dec  3 00:04 srw_peaks.ipynb\r\n"
     ]
    }
   ],
   "source": [
    "!ls -al"
   ]
  },
  {
   "cell_type": "code",
   "execution_count": 51,
   "metadata": {},
   "outputs": [
    {
     "name": "stdout",
     "output_type": "stream",
     "text": [
      "# [ph/s/.1%bw/mm^2] (C-aligned, inner loop is vs Photon Energy, outer loop vs Vertical Position)\r\n",
      "#10.0 #Initial Photon Energy [eV]\r\n",
      "#20000.0 #Final Photon Energy [eV]\r\n",
      "#10000 #Number of points vs Photon Energy\r\n",
      "#0.0 #Initial Horizontal Position [m]\r\n",
      "#0.0 #Final Horizontal Position [m]\r\n",
      "#1 #Number of points vs Horizontal Position\r\n",
      "#0.0 #Initial Vertical Position [m]\r\n",
      "#0.0 #Final Vertical Position [m]\r\n",
      "#1 #Number of points vs Vertical Position\r\n",
      " 141.51602172851562\r\n",
      " 212.7181854248047\r\n",
      " 192.0355224609375\r\n",
      " 65.62773895263672\r\n",
      " 27.26546287536621\r\n",
      "cat: write error: Broken pipe\r\n"
     ]
    }
   ],
   "source": [
    "!cat {res_file} | head -15"
   ]
  },
  {
   "cell_type": "code",
   "execution_count": 52,
   "metadata": {},
   "outputs": [],
   "source": [
    "x_min = None\n",
    "x_max = None\n",
    "num = None\n",
    "with open(res_file) as f:\n",
    "    for i in range(10):\n",
    "        r = f.readline()\n",
    "        if re.search('Initial Photon Energy', r):\n",
    "            x_min = float(r.split('#')[1].strip())\n",
    "        if re.search('Final Photon Energy', r):\n",
    "            x_max = float(r.split('#')[1].strip())\n",
    "        if re.search('Number of points vs Photon Energy', r):\n",
    "            num = int(r.split('#')[1].strip())"
   ]
  },
  {
   "cell_type": "code",
   "execution_count": 53,
   "metadata": {},
   "outputs": [
    {
     "data": {
      "text/plain": [
       "(10000,)"
      ]
     },
     "execution_count": 53,
     "metadata": {},
     "output_type": "execute_result"
    }
   ],
   "source": [
    "x_values = np.linspace(x_min, x_max, num)\n",
    "x_values.shape"
   ]
  },
  {
   "cell_type": "code",
   "execution_count": 54,
   "metadata": {},
   "outputs": [
    {
     "data": {
      "text/plain": [
       "(10000,)"
      ]
     },
     "execution_count": 54,
     "metadata": {},
     "output_type": "execute_result"
    }
   ],
   "source": [
    "y_values = np.loadtxt(res_file)\n",
    "y_values.shape"
   ]
  },
  {
   "cell_type": "code",
   "execution_count": 55,
   "metadata": {},
   "outputs": [],
   "source": [
    "df = pd.DataFrame({'x_values': x_values, 'y_values': y_values})"
   ]
  },
  {
   "cell_type": "code",
   "execution_count": 56,
   "metadata": {
    "scrolled": true
   },
   "outputs": [
    {
     "data": {
      "text/plain": [
       "<matplotlib.axes._subplots.AxesSubplot at 0x7fc86bddec10>"
      ]
     },
     "execution_count": 56,
     "metadata": {},
     "output_type": "execute_result"
    },
    {
     "data": {
      "image/png": "[encoded data removed]",
      "text/plain": [
       "<matplotlib.figure.Figure at 0x7fc8a2afab50>"
      ]
     },
     "metadata": {},
     "output_type": "display_data"
    }
   ],
   "source": [
    "df.plot(x='x_values', y='y_values')"
   ]
  },
  {
   "cell_type": "markdown",
   "metadata": {},
   "source": [
    "### https://docs.scipy.org/doc/scipy-0.14.0/reference/generated/scipy.signal.find_peaks_cwt.html\n",
    "### https://stackoverflow.com/a/25580682"
   ]
  },
  {
   "cell_type": "code",
   "execution_count": 57,
   "metadata": {},
   "outputs": [
    {
     "name": "stdout",
     "output_type": "stream",
     "text": [
      "x: 2626.95269527    ymax: 1.57767323594e+16\n",
      "x: 7876.85168517    ymax: 1.00637816107e+16\n",
      "x: 13126.7506751    ymax: 4.06444995877e+15\n",
      "x: 18378.6488649    ymax: 1.37524987036e+15\n"
     ]
    },
    {
     "data": {
      "image/png": "[encoded data removed]",
      "text/plain": [
       "<matplotlib.figure.Figure at 0x7fc84cb05250>"
      ]
     },
     "metadata": {},
     "output_type": "display_data"
    }
   ],
   "source": [
    "plt.figure()\n",
    "idx = find_peaks_cwt(df['y_values'], np.arange(1, 30), noise_perc=0.1)\n",
    "plt.scatter(df['x_values'][idx], df['y_values'][idx])\n",
    "plt.xlim (0, x_max)\n",
    "plt.ylim (0, 1.1*y_values.max())\n",
    "for i in idx:\n",
    "    print('x: {}    ymax: {}'.format(df['x_values'][i], df['y_values'][i]))\n",
    "    plt.vlines(x=df['x_values'][i], ymin=0, ymax=df['y_values'][i], color='red')"
   ]
  },
  {
   "cell_type": "code",
   "execution_count": 69,
   "metadata": {},
   "outputs": [
    {
     "name": "stdout",
     "output_type": "stream",
     "text": [
      "\n",
      "    Harmonic index: 6561\n",
      "    Energy        : 13126.7506751\n",
      "    Intensity     : 4.06444995877e+15\n",
      "\n"
     ]
    }
   ],
   "source": [
    "# 5th harmonic:\n",
    "harm5_idx = idx[2]\n",
    "energy_harm5 = df['x_values'][harm5_idx]\n",
    "intensity_harm5 = df['y_values'][harm5_idx]\n",
    "print('''\n",
    "    Harmonic index: {}\n",
    "    Energy        : {}\n",
    "    Intensity     : {}\n",
    "'''.format(harm5_idx, energy_harm5, intensity_harm5))"
   ]
  },
  {
   "cell_type": "markdown",
   "metadata": {},
   "source": [
    "# Find refractive index decrement and attenuation length for found energy\n",
    "### Index of refraction:"
   ]
  },
  {
   "cell_type": "code",
   "execution_count": 70,
   "metadata": {},
   "outputs": [
    {
     "data": {
      "text/plain": [
       "{'characteristic': 'delta',\n",
       " 'characteristic_value': 1.99297915e-06,\n",
       " 'closest_energy': 13073.7412,\n",
       " 'element': 'Be',\n",
       " 'method': 'server'}"
      ]
     },
     "execution_count": 70,
     "metadata": {},
     "output_type": "execute_result"
    }
   ],
   "source": [
    "bnlcrl.pkcli.simulate.find_delta(energy=energy_harm5, formula='Be', characteristic='delta')"
   ]
  },
  {
   "cell_type": "code",
   "execution_count": 71,
   "metadata": {},
   "outputs": [
    {
     "data": {
      "text/plain": [
       "{'characteristic': 'delta',\n",
       " 'characteristic_value': 1.97677696e-06,\n",
       " 'closest_energy': 13127.1846,\n",
       " 'element': 'Be',\n",
       " 'method': 'file'}"
      ]
     },
     "execution_count": 71,
     "metadata": {},
     "output_type": "execute_result"
    }
   ],
   "source": [
    "bnlcrl.pkcli.simulate.find_delta(energy=energy_harm5, formula='Be', characteristic='delta', data_file='Be_delta.dat')"
   ]
  },
  {
   "cell_type": "markdown",
   "metadata": {},
   "source": [
    "### Attenuation length:"
   ]
  },
  {
   "cell_type": "code",
   "execution_count": 72,
   "metadata": {},
   "outputs": [
    {
     "data": {
      "text/plain": [
       "{'characteristic': 'atten',\n",
       " 'characteristic_value': 0.017097599999999998,\n",
       " 'closest_energy': 13095.5,\n",
       " 'element': 'Be',\n",
       " 'method': 'server'}"
      ]
     },
     "execution_count": 72,
     "metadata": {},
     "output_type": "execute_result"
    }
   ],
   "source": [
    "bnlcrl.pkcli.simulate.find_delta(energy=energy_harm5, formula='Be', characteristic='atten')"
   ]
  },
  {
   "cell_type": "code",
   "execution_count": 73,
   "metadata": {},
   "outputs": [
    {
     "data": {
      "text/plain": [
       "{'characteristic': 'atten',\n",
       " 'characteristic_value': 0.017178799999999998,\n",
       " 'closest_energy': 13130.7,\n",
       " 'element': 'Be',\n",
       " 'method': 'file'}"
      ]
     },
     "execution_count": 73,
     "metadata": {},
     "output_type": "execute_result"
    }
   ],
   "source": [
    "bnlcrl.pkcli.simulate.find_delta(energy=energy_harm5, formula='Be', characteristic='atten', data_file='Be_atten.dat')"
   ]
  },
  {
   "cell_type": "markdown",
   "metadata": {},
   "source": [
    "# Insert the found energy and material parameters to intensity calculation with wavefront propagation"
   ]
  },
  {
   "cell_type": "code",
   "execution_count": 74,
   "metadata": {},
   "outputs": [
    {
     "name": "stderr",
     "output_type": "stream",
     "text": [
      "ERROR:root:File `u'chx_intensity_prop.py'` not found.\n"
     ]
    }
   ],
   "source": [
    "%run -i chx_intensity_prop.py"
   ]
  },
  {
   "cell_type": "code",
   "execution_count": null,
   "metadata": {},
   "outputs": [],
   "source": []
  }
 ],
 "metadata": {
  "kernelspec": {
   "display_name": "Python 2",
   "language": "python",
   "name": "python2"
  },
  "language_info": {
   "codemirror_mode": {
    "name": "ipython",
    "version": 2
   },
   "file_extension": ".py",
   "mimetype": "text/x-python",
   "name": "python",
   "nbconvert_exporter": "python",
   "pygments_lexer": "ipython2",
   "version": "2.7.14"
  }
 },
 "nbformat": 4,
 "nbformat_minor": 2
}
